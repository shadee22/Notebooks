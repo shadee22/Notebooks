{
 "cells": [
  {
   "cell_type": "markdown",
   "id": "e1cc4619-f20b-44f1-842a-2741c135c3c9",
   "metadata": {},
   "source": [
    "Repo: [Github](https://github.com/shadee22/Notebooks)\n",
    "Author: [Shadeer](https://www.linkedin.com/in/shadeer-/)\n",
    "\n",
    "Thanks-to: [O'Really](https://www.oreilly.com/products/books-videos.html)\n",
    "\n",
    "# 🚀 Noise Removal for Digit Images\n",
    "## 🎯 Problem Statement\n",
    "The objective of this notebook is to address the  noise in digit images and Create a model for noise removal:\n",
    "\n",
    " Our challenge is to:\n",
    "    \n",
    "- 🔍 Detect and analyze the handwritten digits from the MNIST dataset.\n",
    "- 🛠 Remove any noise that might be present in these images.\n",
    "- 🤖 Train a model that can recognize these digits with high accuracy after noise removal.\n",
    "\n",
    "## 📊 Dataset\n",
    "\n",
    "We'll be using the Famouse MNIST dataset:\n",
    "\n",
    "- Contains 70,000 images of handwritten digits.\n",
    "- Each image is 28x28 pixels, representing digits 0 through 9.\n",
    "- \n",
    "## 🧠 Approach\n",
    "- **Data Loading:** Fetch the MNIST dataset and understand its structure.\n",
    "- **Visualization:** See the handwritten digits in their raw form.\n",
    "- **Preprocessing:** Prepare the dataset for training and testing.\n",
    "- **Model Building:** Use the K-Nearest Neighbors (KNN) classifier for digit recognition.\n",
    "Evaluation: Gauge the model's performance and accuracy.\n",
    "\n",
    "# 🌟 Goal\n",
    "Achieve a high recognition accuracy and provide a clear visualization of the handwritten digits, free from noise.\n",
    "\n"
   ]
  },
  {
   "cell_type": "code",
   "execution_count": 57,
   "id": "e18c4e6e-5603-4acb-bce9-0c6d38f5a189",
   "metadata": {},
   "outputs": [],
   "source": [
    "# Start fetching a do the Noise Cancellation process\n",
    "from sklearn.datasets import fetch_openml\n",
    "import matplotlib as mpl\n",
    "from sklearn.neighbors import KNeighborsClassifier\n",
    "import numpy as np\n",
    "import matplotlib.pyplot as plt\n",
    "from sklearn.model_selection import train_test_split\n",
    "from sklearn.metrics import accuracy_score"
   ]
  },
  {
   "cell_type": "code",
   "execution_count": 8,
   "id": "699f86d9-8b9a-46ad-88ca-e022c309a88b",
   "metadata": {},
   "outputs": [],
   "source": [
    "mnist = fetch_openml('mnist_784', version=1, parser=\"auto\")\n"
   ]
  },
  {
   "cell_type": "code",
   "execution_count": 11,
   "id": "ed0ef526-3efc-4343-bdeb-8e9a33d156f1",
   "metadata": {},
   "outputs": [
    {
     "name": "stdout",
     "output_type": "stream",
     "text": [
      "dict_keys(['data', 'target', 'frame', 'categories', 'feature_names', 'target_names', 'DESCR', 'details', 'url'])\n",
      "Shape of single digit: (784,)\n"
     ]
    }
   ],
   "source": [
    "print(mnist.keys())\n",
    "print(\"Shape of single digit:\",np.array(mnist.data)[0].shape)"
   ]
  },
  {
   "cell_type": "markdown",
   "id": "0f7cc0fd-1f8f-4cc6-989c-cc5bfe39a8ee",
   "metadata": {},
   "source": [
    "# Visualize function for digits"
   ]
  },
  {
   "cell_type": "code",
   "execution_count": 19,
   "id": "ed30ab54-e3ba-4d83-b42b-07c2d1fb4778",
   "metadata": {
    "scrolled": true
   },
   "outputs": [
    {
     "data": {
      "image/png": "[encoded data removed]",
      "text/plain": [
       "<Figure size 640x480 with 1 Axes>"
      ]
     },
     "metadata": {},
     "output_type": "display_data"
    }
   ],
   "source": [
    "def plot_digit(digit_pixels):\n",
    "    \"\"\"\n",
    "    Plot a single digit given its pixel data.\n",
    "    \n",
    "    Args:\n",
    "        digit_pixels (array-like): 784 pixel data of a single digit.\n",
    "\n",
    "    Example:\n",
    "        digit_data = np.array(mnist.data)[0]\n",
    "        plot_digit(digit_data)\n",
    "\n",
    "    \"\"\"\n",
    "    reshaped = digit_pixels.reshape(28,28)\n",
    "    plt.imshow(reshaped, cmap=plt.cm.binary, interpolation=\"nearest\")\n",
    "    plt.axis('off')  # Turn off axis labels and ticks\n",
    "    plt.show()\n",
    "\n",
    "digit_data = np.array(mnist.data)[0]\n",
    "plot_digit(digit_data)\n"
   ]
  },
  {
   "cell_type": "markdown",
   "id": "abd0435c-7696-41d5-bd99-eab4679f8dbd",
   "metadata": {},
   "source": [
    "# Prepocessing Data"
   ]
  },
  {
   "cell_type": "code",
   "execution_count": 22,
   "id": "82d077bd-ca0b-4a38-ad22-03e861c5f7e6",
   "metadata": {},
   "outputs": [
    {
     "name": "stdout",
     "output_type": "stream",
     "text": [
      "X_train shape: (56000, 784)\n",
      "X_test shape: (14000, 784)\n",
      "y_train shape: (56000,)\n",
      "y_test shape: (14000,)\n"
     ]
    }
   ],
   "source": [
    "# Split X and y\n",
    "X = mnist.data\n",
    "y = mnist.target\n",
    "\n",
    "# Train test split for training and evaluation\n",
    "X_train, X_test, y_train, y_test = train_test_split(X, y, test_size=0.2, random_state=42)\n",
    "\n",
    "# Get the shapes of the output arrays\n",
    "print(\"X_train shape:\", X_train.shape)\n",
    "print(\"X_test shape:\", X_test.shape)\n",
    "print(\"y_train shape:\", y_train.shape)\n",
    "print(\"y_test shape:\", y_test.shape)\n"
   ]
  },
  {
   "cell_type": "code",
   "execution_count": 29,
   "id": "4ab78c66-503f-4ad9-ae51-d751c3f05f1a",
   "metadata": {},
   "outputs": [],
   "source": [
    "# Add Gaussion noise to the image for X_train \n",
    "def add_noise(images, noise_factor=0.5):\n",
    "    noisy_image =  images + noise_factor * np.random.normal(0 , 20 , size=np.array(images.shape))\n",
    "    return noisy_image"
   ]
  },
  {
   "cell_type": "code",
   "execution_count": 31,
   "id": "50758599-472a-4aee-b03e-53351f5b2171",
   "metadata": {},
   "outputs": [],
   "source": [
    "X_train_n = add_noise(X_train)"
   ]
  },
  {
   "cell_type": "code",
   "execution_count": 38,
   "id": "84af3e4b-0d13-471a-be00-da1f623ec9a3",
   "metadata": {
    "scrolled": true
   },
   "outputs": [
    {
     "data": {
      "image/png": "[encoded data removed]",
      "text/plain": [
       "<Figure size 640x480 with 1 Axes>"
      ]
     },
     "metadata": {},
     "output_type": "display_data"
    }
   ],
   "source": [
    "digit_after_noise = np.array(X_train_n)[0]\n",
    "plot_digit(digit_after_noise)"
   ]
  },
  {
   "cell_type": "code",
   "execution_count": 45,
   "id": "f66b3eaf-c9ee-4bc4-8e63-34a5be3fc43d",
   "metadata": {
    "scrolled": true
   },
   "outputs": [
    {
     "data": {
      "image/png": "[encoded data removed]",
      "text/plain": [
       "<Figure size 640x480 with 1 Axes>"
      ]
     },
     "metadata": {},
     "output_type": "display_data"
    },
    {
     "data": {
      "image/png": "[encoded data removed]",
      "text/plain": [
       "<Figure size 640x480 with 1 Axes>"
      ]
     },
     "metadata": {},
     "output_type": "display_data"
    }
   ],
   "source": [
    "# adding more noise for it \n",
    "X_train_n = add_noise(X_train,3)\n",
    "X_test_n = add_noise(X_test,3)\n",
    "plot_digit(np.array(X_train_n)[0])\n",
    "plot_digit(np.array(X_train)[0])"
   ]
  },
  {
   "cell_type": "code",
   "execution_count": 46,
   "id": "907e8a0e-88a4-4d8e-b449-4f7f21a583cd",
   "metadata": {},
   "outputs": [],
   "source": [
    "# Create new X_train and y_train\n",
    "X_train_noise = X_train_n.copy()\n",
    "y_train = X_train\n",
    "X_test_noise = X_test_n.copy()\n",
    "y_test = X_test"
   ]
  },
  {
   "cell_type": "markdown",
   "id": "659da563-a1d6-42dd-a242-70eb934a0b3c",
   "metadata": {},
   "source": [
    "# Train the model"
   ]
  },
  {
   "cell_type": "code",
   "execution_count": 47,
   "id": "b7d26d80-1ec8-449c-abd8-03e63c199d3f",
   "metadata": {},
   "outputs": [
    {
     "data": {
      "text/html": [
       "<style>#sk-container-id-1 {color: black;}#sk-container-id-1 pre{padding: 0;}#sk-container-id-1 div.sk-toggleable {background-color: white;}#sk-container-id-1 label.sk-toggleable__label {cursor: pointer;display: block;width: 100%;margin-bottom: 0;padding: 0.3em;box-sizing: border-box;text-align: center;}#sk-container-id-1 label.sk-toggleable__label-arrow:before {content: \"▸\";float: left;margin-right: 0.25em;color: #696969;}#sk-container-id-1 label.sk-toggleable__label-arrow:hover:before {color: black;}#sk-container-id-1 div.sk-estimator:hover label.sk-toggleable__label-arrow:before {color: black;}#sk-container-id-1 div.sk-toggleable__content {max-height: 0;max-width: 0;overflow: hidden;text-align: left;background-color: #f0f8ff;}#sk-container-id-1 div.sk-toggleable__content pre {margin: 0.2em;color: black;border-radius: 0.25em;background-color: #f0f8ff;}#sk-container-id-1 input.sk-toggleable__control:checked~div.sk-toggleable__content {max-height: 200px;max-width: 100%;overflow: auto;}#sk-container-id-1 input.sk-toggleable__control:checked~label.sk-toggleable__label-arrow:before {content: \"▾\";}#sk-container-id-1 div.sk-estimator input.sk-toggleable__control:checked~label.sk-toggleable__label {background-color: #d4ebff;}#sk-container-id-1 div.sk-label input.sk-toggleable__control:checked~label.sk-toggleable__label {background-color: #d4ebff;}#sk-container-id-1 input.sk-hidden--visually {border: 0;clip: rect(1px 1px 1px 1px);clip: rect(1px, 1px, 1px, 1px);height: 1px;margin: -1px;overflow: hidden;padding: 0;position: absolute;width: 1px;}#sk-container-id-1 div.sk-estimator {font-family: monospace;background-color: #f0f8ff;border: 1px dotted black;border-radius: 0.25em;box-sizing: border-box;margin-bottom: 0.5em;}#sk-container-id-1 div.sk-estimator:hover {background-color: #d4ebff;}#sk-container-id-1 div.sk-parallel-item::after {content: \"\";width: 100%;border-bottom: 1px solid gray;flex-grow: 1;}#sk-container-id-1 div.sk-label:hover label.sk-toggleable__label {background-color: #d4ebff;}#sk-container-id-1 div.sk-serial::before {content: \"\";position: absolute;border-left: 1px solid gray;box-sizing: border-box;top: 0;bottom: 0;left: 50%;z-index: 0;}#sk-container-id-1 div.sk-serial {display: flex;flex-direction: column;align-items: center;background-color: white;padding-right: 0.2em;padding-left: 0.2em;position: relative;}#sk-container-id-1 div.sk-item {position: relative;z-index: 1;}#sk-container-id-1 div.sk-parallel {display: flex;align-items: stretch;justify-content: center;background-color: white;position: relative;}#sk-container-id-1 div.sk-item::before, #sk-container-id-1 div.sk-parallel-item::before {content: \"\";position: absolute;border-left: 1px solid gray;box-sizing: border-box;top: 0;bottom: 0;left: 50%;z-index: -1;}#sk-container-id-1 div.sk-parallel-item {display: flex;flex-direction: column;z-index: 1;position: relative;background-color: white;}#sk-container-id-1 div.sk-parallel-item:first-child::after {align-self: flex-end;width: 50%;}#sk-container-id-1 div.sk-parallel-item:last-child::after {align-self: flex-start;width: 50%;}#sk-container-id-1 div.sk-parallel-item:only-child::after {width: 0;}#sk-container-id-1 div.sk-dashed-wrapped {border: 1px dashed gray;margin: 0 0.4em 0.5em 0.4em;box-sizing: border-box;padding-bottom: 0.4em;background-color: white;}#sk-container-id-1 div.sk-label label {font-family: monospace;font-weight: bold;display: inline-block;line-height: 1.2em;}#sk-container-id-1 div.sk-label-container {text-align: center;}#sk-container-id-1 div.sk-container {/* jupyter's `normalize.less` sets `[hidden] { display: none; }` but bootstrap.min.css set `[hidden] { display: none !important; }` so we also need the `!important` here to be able to override the default hidden behavior on the sphinx rendered scikit-learn.org. See: https://github.com/scikit-learn/scikit-learn/issues/21755 */display: inline-block !important;position: relative;}#sk-container-id-1 div.sk-text-repr-fallback {display: none;}</style><div id=\"sk-container-id-1\" class=\"sk-top-container\"><div class=\"sk-text-repr-fallback\"><pre>KNeighborsClassifier()</pre><b>In a Jupyter environment, please rerun this cell to show the HTML representation or trust the notebook. <br />On GitHub, the HTML representation is unable to render, please try loading this page with nbviewer.org.</b></div><div class=\"sk-container\" hidden><div class=\"sk-item\"><div class=\"sk-estimator sk-toggleable\"><input class=\"sk-toggleable__control sk-hidden--visually\" id=\"sk-estimator-id-1\" type=\"checkbox\" checked><label for=\"sk-estimator-id-1\" class=\"sk-toggleable__label sk-toggleable__label-arrow\">KNeighborsClassifier</label><div class=\"sk-toggleable__content\"><pre>KNeighborsClassifier()</pre></div></div></div></div></div>"
      ],
      "text/plain": [
       "KNeighborsClassifier()"
      ]
     },
     "execution_count": 47,
     "metadata": {},
     "output_type": "execute_result"
    }
   ],
   "source": [
    "# Create model and fit it \n",
    "model = KNeighborsClassifier()\n",
    "model.fit(X_train_noise, y_train)"
   ]
  },
  {
   "cell_type": "markdown",
   "id": "7c581dc7-a7fb-42b6-8647-01025cf8c24c",
   "metadata": {},
   "source": [
    "# Get Prediction from trained Knn model"
   ]
  },
  {
   "cell_type": "code",
   "execution_count": 56,
   "id": "4ce9ebf4-fe83-416f-bbd4-2e37589d7f92",
   "metadata": {},
   "outputs": [
    {
     "name": "stderr",
     "output_type": "stream",
     "text": [
      "/usr/local/lib/python3.10/site-packages/sklearn/base.py:464: UserWarning: X does not have valid feature names, but KNeighborsClassifier was fitted with feature names\n",
      "  warnings.warn(\n"
     ]
    }
   ],
   "source": [
    "# Predict on our test for evaluation\n",
    "y_preds = model.predict(np.array(X_test_noise))"
   ]
  },
  {
   "cell_type": "markdown",
   "id": "96589f7b-5541-4003-b480-7239c151791c",
   "metadata": {},
   "source": [
    "# Output of our model"
   ]
  },
  {
   "cell_type": "code",
   "execution_count": 104,
   "id": "c67679ab-a5aa-4c71-a813-dff5365429da",
   "metadata": {},
   "outputs": [
    {
     "name": "stdout",
     "output_type": "stream",
     "text": [
      "Model output on removing noise of digits\n"
     ]
    },
    {
     "data": {
      "image/png": "[encoded data removed]",
      "text/plain": [
       "<Figure size 1200x400 with 6 Axes>"
      ]
     },
     "metadata": {},
     "output_type": "display_data"
    }
   ],
   "source": [
    "fig, axes = plt.subplots(2, 3, figsize=(12, 4))\n",
    "\n",
    "titles = ['Noisy Image', 'Real', 'Model Output']\n",
    "\n",
    "for i in range(2):\n",
    "    data_sets = [np.array(X_test_noise), np.array(y_test), np.array(y_preds)]\n",
    "    for j, dataset in enumerate(data_sets):\n",
    "        axes[i, j].imshow(dataset[i].reshape(28, 28), cmap=plt.cm.binary, interpolation=\"nearest\")\n",
    "        axes[i, j].set_title(titles[j])\n",
    "        axes[i, j].axis('off')\n",
    "\n",
    "print(\"Model output on removing noise of digits\")\n",
    "plt.show()\n"
   ]
  },
  {
   "cell_type": "code",
   "execution_count": null,
   "id": "a242a749-bf28-4379-8ef7-832758cc7ca0",
   "metadata": {},
   "outputs": [],
   "source": [
    "plot_digit(y_preds[0])"
   ]
  },
  {
   "cell_type": "code",
   "execution_count": null,
   "id": "91e79064-e121-43cc-8ad7-05a49f92d796",
   "metadata": {},
   "outputs": [],
   "source": []
  },
  {
   "cell_type": "code",
   "execution_count": null,
   "id": "328c41b3-c362-4130-8926-e55fa538ad55",
   "metadata": {},
   "outputs": [],
   "source": []
  },
  {
   "cell_type": "code",
   "execution_count": null,
   "id": "473b34fb-6698-45db-a182-b726ede708db",
   "metadata": {},
   "outputs": [],
   "source": []
  },
  {
   "cell_type": "code",
   "execution_count": null,
   "id": "0bbe0015-3d06-4749-aaeb-cff83ce7fd45",
   "metadata": {},
   "outputs": [],
   "source": []
  },
  {
   "cell_type": "code",
   "execution_count": null,
   "id": "0ac32bcb-6d10-4787-9306-7e8454bde746",
   "metadata": {},
   "outputs": [],
   "source": []
  }
 ],
 "metadata": {
  "kernelspec": {
   "display_name": "Python 3 (ipykernel)",
   "language": "python",
   "name": "python3"
  },
  "language_info": {
   "codemirror_mode": {
    "name": "ipython",
    "version": 3
   },
   "file_extension": ".py",
   "mimetype": "text/x-python",
   "name": "python",
   "nbconvert_exporter": "python",
   "pygments_lexer": "ipython3",
   "version": "3.10.6"
  }
 },
 "nbformat": 4,
 "nbformat_minor": 5
}
